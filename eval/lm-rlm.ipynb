{
 "cells": [
  {
   "cell_type": "code",
   "execution_count": 6,
   "metadata": {
    "scrolled": false
   },
   "outputs": [],
   "source": [
    "import os\n",
    "import sys\n",
    "from time import time\n",
    "import numpy as np\n",
    "sys.path.append('../')\n",
    "from train import get_helper, get_batch_seq_len\n",
    "import tensorflow as tf\n",
    "import os\n",
    "\n",
    "import matplotlib.pyplot as plt\n",
    "import pandas as pd\n",
    "import numpy as np\n",
    "import seaborn as sns\n",
    "sns.set(font_scale=1.9)  # Make sure everything is readable.\n",
    "sns.set_style(\"whitegrid\")\n",
    "figsize=(6,4)"
   ]
  },
  {
   "cell_type": "markdown",
   "metadata": {},
   "source": [
    "# coco LM score"
   ]
  },
  {
   "cell_type": "code",
   "execution_count": 2,
   "metadata": {},
   "outputs": [],
   "source": [
    "save_dir = '../save'\n",
    "f_tmpl = os.path.join(save_dir, \"{}_{}/{}_{}_epoch[{}]_pr[{}_{}]_temp[{}].txt\")\n",
    "TEMPERATURES = [0.8, 0.9, 0.95, 1.0, 1.01, 1.02, 1.03, 1.04, 1.06, 1.07, 1.08, 1.09, 2.25, 2.5, 2.75, 3.25, 3.5, 3.75]\n",
    "PR_RATES = [0.0, 0.25, 0.5, 0.75]\n",
    "models = ['tokmangan', 'maskgan']\n",
    "modes = [('GAN', 200), ('MLE', 80)]\n",
    "db = 'coco'\n",
    "eval_dir = '{}_eval'.format(db)\n",
    "eval_dir = os.path.join(save_dir, eval_dir)\n",
    "if not os.path.exists(eval_dir):\n",
    "    os.mkdir(eval_dir)"
   ]
  },
  {
   "cell_type": "code",
   "execution_count": 5,
   "metadata": {},
   "outputs": [
    {
     "name": "stdout",
     "output_type": "stream",
     "text": [
      "(64, ?, 4616)\n",
      "\tCheckpoint found: /Users/minkyounggu/workspace/workDir/tokmangan/save/coco_lm/MLE/model.ckpt-80\n",
      "\tINFO:tensorflow:Restoring parameters from /Users/minkyounggu/workspace/workDir/tokmangan/save/coco_lm/MLE/model.ckpt-80\n"
     ]
    }
   ],
   "source": [
    "tf.reset_default_graph()\n",
    "helper =  get_helper('coco', 'lm')\n",
    "h_dim = 32\n",
    "helper.emb_dim = h_dim\n",
    "helper.hidden_dim = h_dim\n",
    "\n",
    "helper.is_training = False\n",
    "helper.init()\n",
    "helper.build()\n",
    "epoch = helper.load(helper.log_dir_MLE)\n",
    "\n",
    "def get_lm_score(helper):\n",
    "    scores = []\n",
    "    for _ in range(helper.gen_data_loader.num_batch):\n",
    "        batch = helper.gen_data_loader.next_batch()\n",
    "        batch_len = get_batch_seq_len(batch)\n",
    "        nlls = helper.sess.run(helper.generator.masked_nlls, feed_dict={\n",
    "            helper.generator.x: batch,\n",
    "            helper.generator.x_len: batch_len\n",
    "        })\n",
    "        scores.append(np.mean(nlls))\n",
    "    return np.mean(scores)"
   ]
  },
  {
   "cell_type": "code",
   "execution_count": 46,
   "metadata": {},
   "outputs": [
    {
     "name": "stdout",
     "output_type": "stream",
     "text": [
      "elapsed:9m tokmangan GAN\n",
      "elapsed:8m tokmangan MLE\n",
      "elapsed:8m maskgan GAN\n",
      "elapsed:8m maskgan MLE\n"
     ]
    }
   ],
   "source": [
    "for model in models:\n",
    "    for mode in modes:\n",
    "        _mode = mode[0]\n",
    "        _epoch = mode[1]\n",
    "        LM = np.zeros((len(PR_RATES), len(TEMPERATURES)))\n",
    "        prev = time()\n",
    "        for i, pr_rate in enumerate(PR_RATES):\n",
    "            for j, temp in enumerate(TEMPERATURES):\n",
    "                fpath = f_tmpl.format(db, model, db, _mode, _epoch, pr_rate, pr_rate, temp)\n",
    "                helper.load_data(fpath, helper.gen_data_loader)\n",
    "                lm_score = get_lm_score(helper)\n",
    "                LM[i, j] = lm_score\n",
    "        elapsed = (time() - prev)/60\n",
    "        print(\"elapsed:{}m\".format(int(elapsed)), model, _mode)\n",
    "        np.savetxt(os.path.join(eval_dir, \"{}_{}_LM.csv\".format(model, _mode)), LM, delimiter=\",\")"
   ]
  },
  {
   "cell_type": "code",
   "execution_count": 56,
   "metadata": {},
   "outputs": [],
   "source": [
    "maskgan_lm = np.genfromtxt('save/coco_eval/maskgan_GAN_LM.csv', delimiter=',')\n",
    "maskmle_lm = np.genfromtxt('save/coco_eval/maskgan_MLE_LM.csv', delimiter=',')\n",
    "tokmangan_lm = np.genfromtxt('save/coco_eval/tokmangan_GAN_LM.csv', delimiter=',')\n",
    "tokmanmle_lm = np.genfromtxt('save/coco_eval/tokmangan_MLE_LM.csv', delimiter=',')"
   ]
  },
  {
   "cell_type": "markdown",
   "metadata": {},
   "source": [
    "# coco RLM score"
   ]
  },
  {
   "cell_type": "code",
   "execution_count": 31,
   "metadata": {},
   "outputs": [],
   "source": [
    "from train import get_helper, get_batch_seq_len\n",
    "import tensorflow as tf\n",
    "import os\n",
    "\n",
    "save_dir = '../save'\n",
    "f_tmpl = os.path.join(save_dir, \"{}_{}/{}_{}_epoch[{}]_pr[{}_{}]_temp[{}].txt\")\n",
    "TEMPERATURES = [0.8, 0.9, 0.95, 1.0, 1.01, 1.02, 1.03, 1.04, 1.06, 1.07, 1.08, 1.09, 2.25, 2.5, 2.75, 3.25, 3.5, 3.75]\n",
    "TEMPERATURES = TEMPERATURES[::2]\n",
    "PR_RATES = [0.0]\n",
    "models = {\n",
    "   'tokmangan': [('GAN', 200)],\n",
    "    'maskgan': [('MLE', 80)]\n",
    "}\n",
    "db = 'coco'\n",
    "eval_dir = '{}_eval'.format(db)\n",
    "eval_dir = os.path.join(save_dir, eval_dir)\n",
    "if not os.path.exists(eval_dir):\n",
    "    os.mkdir(eval_dir)"
   ]
  },
  {
   "cell_type": "code",
   "execution_count": 32,
   "metadata": {},
   "outputs": [],
   "source": [
    "def _get_rlm_score(model_name, fpath):\n",
    "    tf.reset_default_graph()\n",
    "    helper = get_helper(db, model_name, rlm=True, rlm_data_loc=fpath)\n",
    "    helper.is_training = True\n",
    "    \n",
    "    helper.emb_dim = 32\n",
    "    helper.hidden_dim = 32\n",
    "    helper.print_every = 40\n",
    "\n",
    "    helper.pre_epoch_num = 80\n",
    "    score =  helper.train(pretrain_gen=True, pretrain_dis=False, train_gan=False)    \n",
    "    return score"
   ]
  },
  {
   "cell_type": "code",
   "execution_count": 33,
   "metadata": {
    "scrolled": true
   },
   "outputs": [
    {
     "name": "stdout",
     "output_type": "stream",
     "text": [
      "lm_maskgan_MLE_PR[0.0]_TEMP:[0.8]\n",
      "(64, ?, 4616)\n",
      "start pre-train generator:\n",
      "No checkpoint found\n",
      "epoch:40 \t elapsed:72s \t loss:2.478\n",
      "\ttime:7s \tbest_rlm:4.512 \tcurrent_rlm:4.512\n",
      "epoch:80 \t elapsed:74s \t loss:2.234\n",
      "\ttime:7s \tbest_rlm:4.502 \tcurrent_rlm:4.614\n",
      "lm_maskgan_MLE_PR[0.0]_TEMP:[0.95]\n",
      "(64, ?, 4616)\n",
      "start pre-train generator:\n",
      "No checkpoint found\n",
      "epoch:40 \t elapsed:74s \t loss:1.991\n",
      "\ttime:7s \tbest_rlm:4.458 \tcurrent_rlm:4.458\n",
      "epoch:80 \t elapsed:67s \t loss:1.796\n",
      "\ttime:6s \tbest_rlm:4.445 \tcurrent_rlm:4.534\n",
      "lm_maskgan_MLE_PR[0.0]_TEMP:[1.01]\n",
      "(64, ?, 4616)\n",
      "start pre-train generator:\n",
      "No checkpoint found\n",
      "epoch:40 \t elapsed:67s \t loss:1.868\n",
      "\ttime:6s \tbest_rlm:4.531 \tcurrent_rlm:4.531\n",
      "epoch:80 \t elapsed:68s \t loss:1.654\n",
      "\ttime:6s \tbest_rlm:4.516 \tcurrent_rlm:4.625\n",
      "lm_maskgan_MLE_PR[0.0]_TEMP:[1.03]\n",
      "(64, ?, 4616)\n",
      "start pre-train generator:\n",
      "No checkpoint found\n",
      "epoch:40 \t elapsed:63s \t loss:1.937\n",
      "\ttime:6s \tbest_rlm:4.566 \tcurrent_rlm:4.566\n",
      "epoch:80 \t elapsed:64s \t loss:1.688\n",
      "\ttime:6s \tbest_rlm:4.542 \tcurrent_rlm:4.633\n",
      "lm_maskgan_MLE_PR[0.0]_TEMP:[1.06]\n",
      "(64, ?, 4616)\n",
      "start pre-train generator:\n",
      "No checkpoint found\n",
      "epoch:40 \t elapsed:68s \t loss:1.740\n",
      "\ttime:6s \tbest_rlm:4.545 \tcurrent_rlm:4.545\n",
      "epoch:80 \t elapsed:67s \t loss:1.517\n",
      "\ttime:6s \tbest_rlm:4.536 \tcurrent_rlm:4.674\n",
      "lm_maskgan_MLE_PR[0.0]_TEMP:[1.08]\n",
      "(64, ?, 4616)\n",
      "start pre-train generator:\n",
      "No checkpoint found\n",
      "epoch:40 \t elapsed:68s \t loss:1.755\n",
      "\ttime:6s \tbest_rlm:4.630 \tcurrent_rlm:4.630\n",
      "epoch:80 \t elapsed:68s \t loss:1.525\n",
      "\ttime:6s \tbest_rlm:4.615 \tcurrent_rlm:4.686\n",
      "lm_maskgan_MLE_PR[0.0]_TEMP:[2.25]\n",
      "(64, ?, 4616)\n",
      "start pre-train generator:\n",
      "No checkpoint found\n",
      "epoch:40 \t elapsed:68s \t loss:0.626\n",
      "\ttime:6s \tbest_rlm:6.167 \tcurrent_rlm:6.323\n",
      "epoch:80 \t elapsed:68s \t loss:0.543\n",
      "\ttime:6s \tbest_rlm:6.167 \tcurrent_rlm:6.848\n",
      "lm_maskgan_MLE_PR[0.0]_TEMP:[2.75]\n",
      "(64, ?, 4616)\n",
      "start pre-train generator:\n",
      "No checkpoint found\n",
      "epoch:40 \t elapsed:63s \t loss:0.523\n",
      "\ttime:6s \tbest_rlm:6.664 \tcurrent_rlm:6.933\n",
      "epoch:80 \t elapsed:63s \t loss:0.453\n",
      "\ttime:6s \tbest_rlm:6.664 \tcurrent_rlm:7.596\n",
      "lm_maskgan_MLE_PR[0.0]_TEMP:[3.5]\n",
      "(64, ?, 4616)\n",
      "start pre-train generator:\n",
      "No checkpoint found\n",
      "epoch:40 \t elapsed:55s \t loss:0.439\n",
      "\ttime:5s \tbest_rlm:6.799 \tcurrent_rlm:7.529\n",
      "epoch:80 \t elapsed:54s \t loss:0.385\n",
      "\ttime:5s \tbest_rlm:6.799 \tcurrent_rlm:8.133\n",
      "elapsed:867m maskgan MLE\n"
     ]
    }
   ],
   "source": [
    "for model, modes in models.items():\n",
    "    for mode in modes:\n",
    "        _mode = mode[0]\n",
    "        _epoch = mode[1]\n",
    "        RLM = np.zeros((len(PR_RATES), len(TEMPERATURES)))\n",
    "        prev = time()\n",
    "        for i, pr_rate in enumerate(PR_RATES):\n",
    "            for j, temp in enumerate(TEMPERATURES):\n",
    "                fpath = f_tmpl.format(db, model, db, _mode, _epoch, pr_rate, pr_rate, temp)\n",
    "                model_name = \"lm_{}_{}_PR[{}]_TEMP:[{}]\".format(model, _mode, pr_rate, temp)\n",
    "                print(model_name)\n",
    "                RLM[i, j] = _get_rlm_score(model_name, fpath)\n",
    "        elapsed = (time() - prev)/60\n",
    "        print(\"elapsed:{}m\".format(int(elapsed)), model, _mode)\n",
    "        np.savetxt(os.path.join(eval_dir, \"{}_{}_RLM.csv\".format(model, _mode)), RLM, delimiter=\",\")"
   ]
  },
  {
   "cell_type": "code",
   "execution_count": 35,
   "metadata": {},
   "outputs": [],
   "source": [
    "maskmle_lm = np.genfromtxt('save/coco_eval/maskgan_MLE_LM.csv', delimiter=',')[0, ::2]\n",
    "tokmangan_lm = np.genfromtxt('save/coco_eval/tokmangan_GAN_LM.csv', delimiter=',')[0, ::2]\n",
    "maskmle_rlm = np.genfromtxt('save/coco_eval/maskgan_MLE_RLM.csv', delimiter=',')\n",
    "tokmangan_rlm = np.genfromtxt('save/coco_eval/tokmangan_GAN_RLM.csv', delimiter=',')"
   ]
  },
  {
   "cell_type": "code",
   "execution_count": 45,
   "metadata": {},
   "outputs": [
    {
     "data": {
      "image/png": "[encoded data removed]",
      "text/plain": [
       "<Figure size 432x288 with 1 Axes>"
      ]
     },
     "metadata": {},
     "output_type": "display_data"
    }
   ],
   "source": [
    "size=15\n",
    "fig = plt.figure(figsize=figsize)\n",
    "ax = fig.add_subplot(111)\n",
    "\n",
    "# plt.title('Mask Rate: {}'.format(1-PR_RATES[idx]))\n",
    "ax.plot(maskmle_rlm,  maskmle_lm, 'b', alpha=1.0, label='Mask-MLE')\n",
    "ax.plot(tokmangan_rlm, tokmangan_lm, 'r', alpha=1.0, label='TokMan-GAN')\n",
    "\n",
    "ax.set_xlabel('RLM score')\n",
    "ax.set_ylabel('LM score')\n",
    "\n",
    "# plt.axis([-0.42, -0.13, 0.1, 0.4])\n",
    "plt.legend(markerfirst=False, frameon=False, fontsize='x-small')\n",
    "plt.show()"
   ]
  },
  {
   "cell_type": "code",
   "execution_count": null,
   "metadata": {},
   "outputs": [],
   "source": []
  }
 ],
 "metadata": {
  "kernelspec": {
   "display_name": "Python 3",
   "language": "python",
   "name": "python3"
  },
  "language_info": {
   "codemirror_mode": {
    "name": "ipython",
    "version": 3
   },
   "file_extension": ".py",
   "mimetype": "text/x-python",
   "name": "python",
   "nbconvert_exporter": "python",
   "pygments_lexer": "ipython3",
   "version": "3.6.10"
  }
 },
 "nbformat": 4,
 "nbformat_minor": 4
}
